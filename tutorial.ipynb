{
  "nbformat": 4,
  "nbformat_minor": 0,
  "metadata": {
    "colab": {
      "name": "tutorial.ipynb",
      "provenance": [],
      "authorship_tag": "ABX9TyPfc2Fiv9kL7ULbNburGFQF",
      "include_colab_link": true
    },
    "kernelspec": {
      "name": "python3",
      "display_name": "Python 3"
    },
    "language_info": {
      "name": "python"
    }
  },
  "cells": [
    {
      "cell_type": "markdown",
      "metadata": {
        "id": "view-in-github",
        "colab_type": "text"
      },
      "source": [
        "<a href=\"https://colab.research.google.com/github/Farzinaayub/sem2nbeyond/blob/colab/tutorial.ipynb\" target=\"_parent\"><img src=\"https://colab.research.google.com/assets/colab-badge.svg\" alt=\"Open In Colab\"/></a>"
      ]
    },
    {
      "cell_type": "code",
      "execution_count": 1,
      "metadata": {
        "colab": {
          "base_uri": "https://localhost:8080/"
        },
        "id": "5NB4lIvpQzPX",
        "outputId": "0df50479-8878-4f47-e706-65976f6a0f0b"
      },
      "outputs": [
        {
          "output_type": "stream",
          "name": "stdout",
          "text": [
            "<built-in function array>\n"
          ]
        }
      ],
      "source": [
        "import numpy as np\n",
        "a=np.array\n",
        "print(a)"
      ]
    },
    {
      "cell_type": "code",
      "source": [
        "from numpy.core.getlimits import array\n",
        "import numpy\n",
        "a = numpy.array([1,2,3])\n",
        "print(\"a:\")\n",
        "print(a)\n",
        "print(type(a))\n",
        "#multidimensional array\n",
        "b = numpy.array([[1,2,3],[4,5,6],[7,8,9]])\n",
        "print(\"b:\")\n",
        "print(b)"
      ],
      "metadata": {
        "colab": {
          "base_uri": "https://localhost:8080/"
        },
        "id": "KjMdITKhSz3l",
        "outputId": "a3879856-e2c0-4039-eec3-b581c8b07993"
      },
      "execution_count": 8,
      "outputs": [
        {
          "output_type": "stream",
          "name": "stdout",
          "text": [
            "a:\n",
            "[1 2 3]\n",
            "<class 'numpy.ndarray'>\n",
            "b:\n",
            "[[1 2 3]\n",
            " [4 5 6]\n",
            " [7 8 9]]\n"
          ]
        }
      ]
    },
    {
      "cell_type": "code",
      "source": [
        "#complex number array\n",
        "import numpy\n",
        "a = numpy.array([[1,2,3],[4,5,6]],dtype=complex)\n",
        "print(a)\n",
        "print(type(a))\n",
        "#to find dimension of array\n",
        "print(a.ndim)"
      ],
      "metadata": {
        "colab": {
          "base_uri": "https://localhost:8080/"
        },
        "id": "2JQ4y5zbUni7",
        "outputId": "d08ae85f-baf3-4a73-8e48-e87cf11e224e"
      },
      "execution_count": 14,
      "outputs": [
        {
          "output_type": "stream",
          "name": "stdout",
          "text": [
            "[[1.+0.j 2.+0.j 3.+0.j]\n",
            " [4.+0.j 5.+0.j 6.+0.j]]\n",
            "<class 'numpy.ndarray'>\n",
            "2\n"
          ]
        }
      ]
    },
    {
      "cell_type": "code",
      "source": [
        "#size\n",
        "arr = numpy.array([1,8,3])\n",
        "print(\"size:\",arr.itemsize,\"bytes\")\n",
        "#element datatype\n",
        "print(arr.dtype)"
      ],
      "metadata": {
        "colab": {
          "base_uri": "https://localhost:8080/"
        },
        "id": "12_KkfYjV2f5",
        "outputId": "6361882f-1552-4e11-dc87-7e0a0b6389fe"
      },
      "execution_count": 20,
      "outputs": [
        {
          "output_type": "stream",
          "name": "stdout",
          "text": [
            "size: 8 bytes\n",
            "int64\n"
          ]
        }
      ]
    }
  ]
}