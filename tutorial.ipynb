{
  "nbformat": 4,
  "nbformat_minor": 0,
  "metadata": {
    "colab": {
      "name": "tutorial.ipynb",
      "provenance": [],
      "authorship_tag": "ABX9TyMA1iY+33qxayvrJIpRD95J",
      "include_colab_link": true
    },
    "kernelspec": {
      "name": "python3",
      "display_name": "Python 3"
    },
    "language_info": {
      "name": "python"
    }
  },
  "cells": [
    {
      "cell_type": "markdown",
      "metadata": {
        "id": "view-in-github",
        "colab_type": "text"
      },
      "source": [
        "<a href=\"https://colab.research.google.com/github/Farzinaayub/sem2nbeyond/blob/colab/tutorial.ipynb\" target=\"_parent\"><img src=\"https://colab.research.google.com/assets/colab-badge.svg\" alt=\"Open In Colab\"/></a>"
      ]
    },
    {
      "cell_type": "code",
      "execution_count": 1,
      "metadata": {
        "colab": {
          "base_uri": "https://localhost:8080/"
        },
        "id": "5NB4lIvpQzPX",
        "outputId": "0df50479-8878-4f47-e706-65976f6a0f0b"
      },
      "outputs": [
        {
          "output_type": "stream",
          "name": "stdout",
          "text": [
            "<built-in function array>\n"
          ]
        }
      ],
      "source": [
        "import numpy as np\n",
        "a=np.array\n",
        "print(a)"
      ]
    },
    {
      "cell_type": "code",
      "source": [
        "from numpy.core.getlimits import array\n",
        "import numpy\n",
        "a = numpy.array([1,2,3])\n",
        "print(\"a:\")\n",
        "print(a)\n",
        "print(type(a))\n",
        "#multidimensional array\n",
        "b = numpy.array([[1,2,3],[4,5,6],[7,8,9]])\n",
        "print(\"b:\")\n",
        "print(b)"
      ],
      "metadata": {
        "colab": {
          "base_uri": "https://localhost:8080/"
        },
        "id": "KjMdITKhSz3l",
        "outputId": "a3879856-e2c0-4039-eec3-b581c8b07993"
      },
      "execution_count": 8,
      "outputs": [
        {
          "output_type": "stream",
          "name": "stdout",
          "text": [
            "a:\n",
            "[1 2 3]\n",
            "<class 'numpy.ndarray'>\n",
            "b:\n",
            "[[1 2 3]\n",
            " [4 5 6]\n",
            " [7 8 9]]\n"
          ]
        }
      ]
    },
    {
      "cell_type": "code",
      "source": [
        "#complex number array\n",
        "import numpy\n",
        "a = numpy.array([[1,2,3],[4,5,6]],dtype=complex)\n",
        "print(a)\n",
        "print(type(a))\n",
        "#to find dimension of array\n",
        "print(a.ndim)"
      ],
      "metadata": {
        "colab": {
          "base_uri": "https://localhost:8080/"
        },
        "id": "2JQ4y5zbUni7",
        "outputId": "d08ae85f-baf3-4a73-8e48-e87cf11e224e"
      },
      "execution_count": 14,
      "outputs": [
        {
          "output_type": "stream",
          "name": "stdout",
          "text": [
            "[[1.+0.j 2.+0.j 3.+0.j]\n",
            " [4.+0.j 5.+0.j 6.+0.j]]\n",
            "<class 'numpy.ndarray'>\n",
            "2\n"
          ]
        }
      ]
    },
    {
      "cell_type": "code",
      "source": [
        "#size\n",
        "arr = numpy.array([[1,8,9]])\n",
        "print(\"size:\",arr.itemsize,\"bytes\")\n",
        "#element datatype\n",
        "print(arr.dtype)\n",
        "print(\"array size:\",arr.size)\n",
        "print(\"array shape:\",arr.shape)"
      ],
      "metadata": {
        "colab": {
          "base_uri": "https://localhost:8080/"
        },
        "id": "12_KkfYjV2f5",
        "outputId": "fb6bd61b-3efb-4dfd-d8c6-2459f27a290e"
      },
      "execution_count": 27,
      "outputs": [
        {
          "output_type": "stream",
          "name": "stdout",
          "text": [
            "size: 8 bytes\n",
            "int64\n",
            "array size: 3\n",
            "array shape: (1, 3)\n"
          ]
        }
      ]
    },
    {
      "cell_type": "code",
      "source": [
        "a = numpy.array([[1,2],[4,5],[7,8]])\n",
        "print(\"original array:\")\n",
        "print(a)\n",
        "print(\"shape of original array:\",a.shape)\n",
        "a = a.reshape(2,3)\n",
        "print(\"reshaped array (2,3):\")\n",
        "print(a)\n",
        "print(\"printing elements..\")\n",
        "print(a[0,0],a[0,1],a[0,2],a[1,0],a[1,1],a[1,2])\n",
        "print(\"max elem:\",a.max())\n",
        "print(\"min elem:\",a.min())\n",
        "print(\"sum elem:\",a.sum())"
      ],
      "metadata": {
        "colab": {
          "base_uri": "https://localhost:8080/"
        },
        "id": "0ECAxq4zYFG7",
        "outputId": "2c7e4d28-557c-48db-ab4a-eee8a06a9f4c"
      },
      "execution_count": 64,
      "outputs": [
        {
          "output_type": "stream",
          "name": "stdout",
          "text": [
            "original array:\n",
            "[[1 2]\n",
            " [4 5]\n",
            " [7 8]]\n",
            "shape of original array: (3, 2)\n",
            "reshaped array (2,3):\n",
            "[[1 2 4]\n",
            " [5 7 8]]\n",
            "printing elements..\n",
            "1 2 4 5 7 8\n",
            "max elem: 8\n",
            "min elem: 1\n",
            "sum elem: 27\n"
          ]
        }
      ]
    },
    {
      "cell_type": "code",
      "source": [
        "xs = numpy.linspace(5,10,3)\n",
        "print(xs)"
      ],
      "metadata": {
        "colab": {
          "base_uri": "https://localhost:8080/"
        },
        "id": "5i6ozFmxaah9",
        "outputId": "fe9fb16b-2129-42c4-8eb1-5e4c054da965"
      },
      "execution_count": 60,
      "outputs": [
        {
          "output_type": "stream",
          "name": "stdout",
          "text": [
            "[ 5.   7.5 10. ]\n"
          ]
        }
      ]
    },
    {
      "cell_type": "code",
      "source": [
        "a"
      ],
      "metadata": {
        "colab": {
          "base_uri": "https://localhost:8080/"
        },
        "id": "t74b1qQLdcc5",
        "outputId": "d2aa3888-a243-4c55-a51a-1569980749fa"
      },
      "execution_count": 66,
      "outputs": [
        {
          "output_type": "execute_result",
          "data": {
            "text/plain": [
              "array([[1, 2, 4],\n",
              "       [5, 7, 8]])"
            ]
          },
          "metadata": {},
          "execution_count": 66
        }
      ]
    },
    {
      "cell_type": "code",
      "source": [
        "x=np.array([[1,2],[3,4]])  \n",
        "y=np.array([[12,30]])  \n",
        "z=np.concatenate((x,y))  \n",
        "print(z) "
      ],
      "metadata": {
        "colab": {
          "base_uri": "https://localhost:8080/"
        },
        "id": "9Z_hZ5J3f8Iy",
        "outputId": "28b7e006-fdf2-4a26-9b3c-5045d1557325"
      },
      "execution_count": 68,
      "outputs": [
        {
          "output_type": "stream",
          "name": "stdout",
          "text": [
            "[[ 1  2]\n",
            " [ 3  4]\n",
            " [12 30]]\n"
          ]
        }
      ]
    },
    {
      "cell_type": "code",
      "source": [
        "#random array of size 10\n",
        "import numpy as np\n",
        "a = np.random.randint(3,size=10)\n",
        "a"
      ],
      "metadata": {
        "colab": {
          "base_uri": "https://localhost:8080/"
        },
        "id": "AdqgkYswhWjf",
        "outputId": "f54d66d1-61fa-4b60-b552-28072be6ba48"
      },
      "execution_count": 74,
      "outputs": [
        {
          "output_type": "execute_result",
          "data": {
            "text/plain": [
              "array([0, 2, 0, 1, 0, 2, 1, 0, 0, 1])"
            ]
          },
          "metadata": {},
          "execution_count": 74
        }
      ]
    }
  ]
}