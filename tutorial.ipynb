{
  "nbformat": 4,
  "nbformat_minor": 0,
  "metadata": {
    "colab": {
      "name": "tutorial.ipynb",
      "provenance": [],
      "authorship_tag": "ABX9TyNpbjfXIqfptd/n5PM5pZrO",
      "include_colab_link": true
    },
    "kernelspec": {
      "name": "python3",
      "display_name": "Python 3"
    },
    "language_info": {
      "name": "python"
    }
  },
  "cells": [
    {
      "cell_type": "markdown",
      "metadata": {
        "id": "view-in-github",
        "colab_type": "text"
      },
      "source": [
        "<a href=\"https://colab.research.google.com/github/Farzinaayub/sem2nbeyond/blob/colab/tutorial.ipynb\" target=\"_parent\"><img src=\"https://colab.research.google.com/assets/colab-badge.svg\" alt=\"Open In Colab\"/></a>"
      ]
    },
    {
      "cell_type": "code",
      "execution_count": 1,
      "metadata": {
        "colab": {
          "base_uri": "https://localhost:8080/"
        },
        "id": "5NB4lIvpQzPX",
        "outputId": "0df50479-8878-4f47-e706-65976f6a0f0b"
      },
      "outputs": [
        {
          "output_type": "stream",
          "name": "stdout",
          "text": [
            "<built-in function array>\n"
          ]
        }
      ],
      "source": [
        "import numpy as np\n",
        "a=np.array\n",
        "print(a)"
      ]
    },
    {
      "cell_type": "code",
      "source": [
        "from numpy.core.getlimits import array\n",
        "import numpy\n",
        "a = numpy.array([1,2,3])\n",
        "print(\"a:\")\n",
        "print(a)\n",
        "print(type(a))\n",
        "#multidimensional array\n",
        "b = numpy.array([[1,2,3],[4,5,6],[7,8,9]])\n",
        "print(\"b:\")\n",
        "print(b)"
      ],
      "metadata": {
        "colab": {
          "base_uri": "https://localhost:8080/"
        },
        "id": "KjMdITKhSz3l",
        "outputId": "a3879856-e2c0-4039-eec3-b581c8b07993"
      },
      "execution_count": 8,
      "outputs": [
        {
          "output_type": "stream",
          "name": "stdout",
          "text": [
            "a:\n",
            "[1 2 3]\n",
            "<class 'numpy.ndarray'>\n",
            "b:\n",
            "[[1 2 3]\n",
            " [4 5 6]\n",
            " [7 8 9]]\n"
          ]
        }
      ]
    },
    {
      "cell_type": "code",
      "source": [
        "#complex number array\n",
        "import numpy\n",
        "a = numpy.array([[1,2,3],[4,5,6]],dtype=complex)\n",
        "print(a)\n",
        "print(type(a))\n",
        "#to find dimension of array\n",
        "print(a.ndim)"
      ],
      "metadata": {
        "colab": {
          "base_uri": "https://localhost:8080/"
        },
        "id": "2JQ4y5zbUni7",
        "outputId": "d08ae85f-baf3-4a73-8e48-e87cf11e224e"
      },
      "execution_count": 14,
      "outputs": [
        {
          "output_type": "stream",
          "name": "stdout",
          "text": [
            "[[1.+0.j 2.+0.j 3.+0.j]\n",
            " [4.+0.j 5.+0.j 6.+0.j]]\n",
            "<class 'numpy.ndarray'>\n",
            "2\n"
          ]
        }
      ]
    },
    {
      "cell_type": "code",
      "source": [
        "#size\n",
        "arr = numpy.array([[1,8,9]])\n",
        "print(\"size:\",arr.itemsize,\"bytes\")\n",
        "#element datatype\n",
        "print(arr.dtype)\n",
        "print(\"array size:\",arr.size)\n",
        "print(\"array shape:\",arr.shape)"
      ],
      "metadata": {
        "colab": {
          "base_uri": "https://localhost:8080/"
        },
        "id": "12_KkfYjV2f5",
        "outputId": "fb6bd61b-3efb-4dfd-d8c6-2459f27a290e"
      },
      "execution_count": 27,
      "outputs": [
        {
          "output_type": "stream",
          "name": "stdout",
          "text": [
            "size: 8 bytes\n",
            "int64\n",
            "array size: 3\n",
            "array shape: (1, 3)\n"
          ]
        }
      ]
    },
    {
      "cell_type": "code",
      "source": [
        "a = numpy.array([[1,2],[4,5],[7,8]])\n",
        "print(\"original array:\")\n",
        "print(a)\n",
        "print(\"shape of original array:\",a.shape)\n",
        "a = a.reshape(2,3)\n",
        "print(\"reshaped array (2,3):\")\n",
        "print(a)"
      ],
      "metadata": {
        "colab": {
          "base_uri": "https://localhost:8080/"
        },
        "id": "0ECAxq4zYFG7",
        "outputId": "562e8b4e-3ec0-4026-8a1e-19bbffdf21c1"
      },
      "execution_count": 35,
      "outputs": [
        {
          "output_type": "stream",
          "name": "stdout",
          "text": [
            "original array:\n",
            "[[1 2]\n",
            " [4 5]\n",
            " [7 8]]\n",
            "shape of original array: (3, 2)\n",
            "reshaped array (2,3):\n",
            "[[1 2 4]\n",
            " [5 7 8]]\n"
          ]
        }
      ]
    }
  ]
}