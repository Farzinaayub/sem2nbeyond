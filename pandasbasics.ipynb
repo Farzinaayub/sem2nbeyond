{
  "nbformat": 4,
  "nbformat_minor": 0,
  "metadata": {
    "colab": {
      "name": "pandasbasics.ipynb",
      "provenance": [],
      "authorship_tag": "ABX9TyNDcugZ19tKYcWJpr3afBAA",
      "include_colab_link": true
    },
    "kernelspec": {
      "name": "python3",
      "display_name": "Python 3"
    },
    "language_info": {
      "name": "python"
    }
  },
  "cells": [
    {
      "cell_type": "markdown",
      "metadata": {
        "id": "view-in-github",
        "colab_type": "text"
      },
      "source": [
        "<a href=\"https://colab.research.google.com/github/Farzinaayub/sem2nbeyond/blob/colab/pandasbasics.ipynb\" target=\"_parent\"><img src=\"https://colab.research.google.com/assets/colab-badge.svg\" alt=\"Open In Colab\"/></a>"
      ]
    },
    {
      "cell_type": "code",
      "execution_count": null,
      "metadata": {
        "id": "p9s7A42JVLJC"
      },
      "outputs": [],
      "source": [
        "import numpy as np\n",
        "import pandas as pd"
      ]
    },
    {
      "cell_type": "code",
      "source": [
        "s = pd.Series([1,3,5,6,8])\n",
        "print (s)"
      ],
      "metadata": {
        "colab": {
          "base_uri": "https://localhost:8080/"
        },
        "id": "3W40szLsW9dr",
        "outputId": "ffa11e8d-24fe-4a19-c0be-75c8c2a184b2"
      },
      "execution_count": null,
      "outputs": [
        {
          "output_type": "stream",
          "name": "stdout",
          "text": [
            "0    1\n",
            "1    3\n",
            "2    5\n",
            "3    6\n",
            "4    8\n",
            "dtype: int64\n"
          ]
        }
      ]
    },
    {
      "cell_type": "code",
      "source": [
        "dict = {\"Name\":[\"Farzi\",\"Celeste\",\"Emel\"],\n",
        "        \"Age\":[\"21\",\"22\",\"23\"],\n",
        "        \"Salary\":[\"100000\",\"200000\",\"300000\"],\n",
        "        \"Location\":[\"Bangalore\",\"Chennai\",\"Jammu Kashmir\"]}\n",
        "b = pd.DataFrame(dict)\n",
        "print(b)\n"
      ],
      "metadata": {
        "colab": {
          "base_uri": "https://localhost:8080/"
        },
        "id": "5y9ajmAWXmVW",
        "outputId": "a3ea7dfc-8dc9-4fe3-96bf-cdf1370fa577"
      },
      "execution_count": null,
      "outputs": [
        {
          "output_type": "stream",
          "name": "stdout",
          "text": [
            "      Name Age  Salary       Location\n",
            "0    Farzi  21  100000      Bangalore\n",
            "1  Celeste  22  200000        Chennai\n",
            "2     Emel  23  300000  Jammu Kashmir\n"
          ]
        }
      ]
    },
    {
      "cell_type": "code",
      "source": [
        "b.index = [\"fz\",\"cst\",\"ml\"]\n",
        "print(b)"
      ],
      "metadata": {
        "colab": {
          "base_uri": "https://localhost:8080/"
        },
        "id": "HQKGyYFlZgjS",
        "outputId": "3757df0f-fb8d-4a83-8efe-5d92b1ccd81e"
      },
      "execution_count": null,
      "outputs": [
        {
          "output_type": "stream",
          "name": "stdout",
          "text": [
            "        Name Age  Salary       Location\n",
            "fz     Farzi  21  100000      Bangalore\n",
            "cst  Celeste  22  200000        Chennai\n",
            "ml      Emel  23  300000  Jammu Kashmir\n"
          ]
        }
      ]
    },
    {
      "cell_type": "code",
      "source": [
        "cars = pd.read_csv('cars1.csv')\n",
        "print(cars)"
      ],
      "metadata": {
        "id": "OkKbJNiXawA_",
        "colab": {
          "base_uri": "https://localhost:8080/"
        },
        "outputId": "9bde4427-8b52-4d75-fe75-21237ca8f74e"
      },
      "execution_count": 6,
      "outputs": [
        {
          "output_type": "stream",
          "name": "stdout",
          "text": [
            "           Car       Model  Volume  Weight  CO2\n",
            "0       Toyoty        Aygo    1000     790   99\n",
            "1   Mitsubishi  Space Star    1200    1160   95\n",
            "2        Skoda      Citigo    1000     929   95\n",
            "3         Fiat         500     900     865   90\n",
            "4         Mini      Cooper    1500    1140  105\n",
            "5           VW         Up!    1000     929  105\n",
            "6        Skoda       Fabia    1400    1109   90\n",
            "7     Mercedes     A-Class    1500    1365   92\n",
            "8         Ford      Fiesta    1500    1112   98\n",
            "9         Audi          A1    1600    1150   99\n",
            "10     Hyundai         I20    1100     980   99\n",
            "11      Suzuki       Swift    1300     990  101\n",
            "12        Ford      Fiesta    1000    1112   99\n",
            "13       Honda       Civic    1600    1252   94\n",
            "14      Hundai         I30    1600    1326   97\n",
            "15        Opel       Astra    1600    1330   97\n",
            "16         BMW           1    1600    1365   99\n",
            "17       Mazda           3    2200    1280  104\n",
            "18       Skoda       Rapid    1600    1119  104\n",
            "19        Ford       Focus    2000    1328  105\n",
            "20        Ford      Mondeo    1600    1584   94\n",
            "21        Opel    Insignia    2000    1428   99\n",
            "22    Mercedes     C-Class    2100    1365   99\n",
            "23       Skoda     Octavia    1600    1415   99\n",
            "24       Volvo         S60    2000    1415   99\n",
            "25    Mercedes         CLA    1500    1465  102\n",
            "26        Audi          A4    2000    1490  104\n",
            "27        Audi          A6    2000    1725  114\n",
            "28       Volvo         V70    1600    1523  109\n",
            "29         BMW           5    2000    1705  114\n",
            "30    Mercedes     E-Class    2100    1605  115\n",
            "31       Volvo        XC70    2000    1746  117\n",
            "32        Ford       B-Max    1600    1235  104\n",
            "33         BMW         216    1600    1390  108\n",
            "34        Opel      Zafira    1600    1405  109\n",
            "35    Mercedes         SLK    2500    1395  120\n"
          ]
        }
      ]
    },
    {
      "cell_type": "code",
      "source": [
        "print(cars[0:4])"
      ],
      "metadata": {
        "colab": {
          "base_uri": "https://localhost:8080/"
        },
        "id": "R1JP41WLceST",
        "outputId": "03d8e424-3846-4d89-c1f9-62c0a2887339"
      },
      "execution_count": 7,
      "outputs": [
        {
          "output_type": "stream",
          "name": "stdout",
          "text": [
            "          Car       Model  Volume  Weight  CO2\n",
            "0      Toyoty        Aygo    1000     790   99\n",
            "1  Mitsubishi  Space Star    1200    1160   95\n",
            "2       Skoda      Citigo    1000     929   95\n",
            "3        Fiat         500     900     865   90\n"
          ]
        }
      ]
    },
    {
      "cell_type": "code",
      "source": [
        "print(cars[:-4])"
      ],
      "metadata": {
        "colab": {
          "base_uri": "https://localhost:8080/"
        },
        "id": "dFFixwvfctpT",
        "outputId": "0195bb90-a024-421e-aa44-547c1a36654a"
      },
      "execution_count": 8,
      "outputs": [
        {
          "output_type": "stream",
          "name": "stdout",
          "text": [
            "           Car       Model  Volume  Weight  CO2\n",
            "0       Toyoty        Aygo    1000     790   99\n",
            "1   Mitsubishi  Space Star    1200    1160   95\n",
            "2        Skoda      Citigo    1000     929   95\n",
            "3         Fiat         500     900     865   90\n",
            "4         Mini      Cooper    1500    1140  105\n",
            "5           VW         Up!    1000     929  105\n",
            "6        Skoda       Fabia    1400    1109   90\n",
            "7     Mercedes     A-Class    1500    1365   92\n",
            "8         Ford      Fiesta    1500    1112   98\n",
            "9         Audi          A1    1600    1150   99\n",
            "10     Hyundai         I20    1100     980   99\n",
            "11      Suzuki       Swift    1300     990  101\n",
            "12        Ford      Fiesta    1000    1112   99\n",
            "13       Honda       Civic    1600    1252   94\n",
            "14      Hundai         I30    1600    1326   97\n",
            "15        Opel       Astra    1600    1330   97\n",
            "16         BMW           1    1600    1365   99\n",
            "17       Mazda           3    2200    1280  104\n",
            "18       Skoda       Rapid    1600    1119  104\n",
            "19        Ford       Focus    2000    1328  105\n",
            "20        Ford      Mondeo    1600    1584   94\n",
            "21        Opel    Insignia    2000    1428   99\n",
            "22    Mercedes     C-Class    2100    1365   99\n",
            "23       Skoda     Octavia    1600    1415   99\n",
            "24       Volvo         S60    2000    1415   99\n",
            "25    Mercedes         CLA    1500    1465  102\n",
            "26        Audi          A4    2000    1490  104\n",
            "27        Audi          A6    2000    1725  114\n",
            "28       Volvo         V70    1600    1523  109\n",
            "29         BMW           5    2000    1705  114\n",
            "30    Mercedes     E-Class    2100    1605  115\n",
            "31       Volvo        XC70    2000    1746  117\n"
          ]
        }
      ]
    },
    {
      "cell_type": "code",
      "source": [
        "print(cars[-4:])"
      ],
      "metadata": {
        "colab": {
          "base_uri": "https://localhost:8080/"
        },
        "id": "zbvJ3TXPc1DM",
        "outputId": "7c91d014-942b-4bef-e10f-87e1aab8a791"
      },
      "execution_count": 9,
      "outputs": [
        {
          "output_type": "stream",
          "name": "stdout",
          "text": [
            "         Car   Model  Volume  Weight  CO2\n",
            "32      Ford   B-Max    1600    1235  104\n",
            "33       BMW     216    1600    1390  108\n",
            "34      Opel  Zafira    1600    1405  109\n",
            "35  Mercedes     SLK    2500    1395  120\n"
          ]
        }
      ]
    },
    {
      "cell_type": "code",
      "source": [
        "cars = pd.read_csv('cars1.csv', index_col = 0)\n",
        "print(cars.iloc[9])"
      ],
      "metadata": {
        "colab": {
          "base_uri": "https://localhost:8080/"
        },
        "id": "nXjsZIHBdHkd",
        "outputId": "28d40316-8622-4b7a-bada-b98746ae3588"
      },
      "execution_count": 10,
      "outputs": [
        {
          "output_type": "stream",
          "name": "stdout",
          "text": [
            "Model       A1\n",
            "Volume    1600\n",
            "Weight    1150\n",
            "CO2         99\n",
            "Name: Audi, dtype: object\n"
          ]
        }
      ]
    },
    {
      "cell_type": "code",
      "source": [
        "cars.describe()"
      ],
      "metadata": {
        "colab": {
          "base_uri": "https://localhost:8080/",
          "height": 274
        },
        "id": "xZW42n5ddXNB",
        "outputId": "fe3d8a7a-e51d-4b8b-a999-75b4226d3b9f"
      },
      "execution_count": 11,
      "outputs": [
        {
          "output_type": "execute_result",
          "data": {
            "text/plain": [
              "            Volume       Weight         CO2\n",
              "count    36.000000    36.000000   36.000000\n",
              "mean   1611.111111  1292.277778  102.027778\n",
              "std     388.975047   242.123889    7.454571\n",
              "min     900.000000   790.000000   90.000000\n",
              "25%    1475.000000  1117.250000   97.750000\n",
              "50%    1600.000000  1329.000000   99.000000\n",
              "75%    2000.000000  1418.250000  105.000000\n",
              "max    2500.000000  1746.000000  120.000000"
            ],
            "text/html": [
              "\n",
              "  <div id=\"df-5b70d0ff-156f-4676-9865-546281866dff\">\n",
              "    <div class=\"colab-df-container\">\n",
              "      <div>\n",
              "<style scoped>\n",
              "    .dataframe tbody tr th:only-of-type {\n",
              "        vertical-align: middle;\n",
              "    }\n",
              "\n",
              "    .dataframe tbody tr th {\n",
              "        vertical-align: top;\n",
              "    }\n",
              "\n",
              "    .dataframe thead th {\n",
              "        text-align: right;\n",
              "    }\n",
              "</style>\n",
              "<table border=\"1\" class=\"dataframe\">\n",
              "  <thead>\n",
              "    <tr style=\"text-align: right;\">\n",
              "      <th></th>\n",
              "      <th>Volume</th>\n",
              "      <th>Weight</th>\n",
              "      <th>CO2</th>\n",
              "    </tr>\n",
              "  </thead>\n",
              "  <tbody>\n",
              "    <tr>\n",
              "      <th>count</th>\n",
              "      <td>36.000000</td>\n",
              "      <td>36.000000</td>\n",
              "      <td>36.000000</td>\n",
              "    </tr>\n",
              "    <tr>\n",
              "      <th>mean</th>\n",
              "      <td>1611.111111</td>\n",
              "      <td>1292.277778</td>\n",
              "      <td>102.027778</td>\n",
              "    </tr>\n",
              "    <tr>\n",
              "      <th>std</th>\n",
              "      <td>388.975047</td>\n",
              "      <td>242.123889</td>\n",
              "      <td>7.454571</td>\n",
              "    </tr>\n",
              "    <tr>\n",
              "      <th>min</th>\n",
              "      <td>900.000000</td>\n",
              "      <td>790.000000</td>\n",
              "      <td>90.000000</td>\n",
              "    </tr>\n",
              "    <tr>\n",
              "      <th>25%</th>\n",
              "      <td>1475.000000</td>\n",
              "      <td>1117.250000</td>\n",
              "      <td>97.750000</td>\n",
              "    </tr>\n",
              "    <tr>\n",
              "      <th>50%</th>\n",
              "      <td>1600.000000</td>\n",
              "      <td>1329.000000</td>\n",
              "      <td>99.000000</td>\n",
              "    </tr>\n",
              "    <tr>\n",
              "      <th>75%</th>\n",
              "      <td>2000.000000</td>\n",
              "      <td>1418.250000</td>\n",
              "      <td>105.000000</td>\n",
              "    </tr>\n",
              "    <tr>\n",
              "      <th>max</th>\n",
              "      <td>2500.000000</td>\n",
              "      <td>1746.000000</td>\n",
              "      <td>120.000000</td>\n",
              "    </tr>\n",
              "  </tbody>\n",
              "</table>\n",
              "</div>\n",
              "      <button class=\"colab-df-convert\" onclick=\"convertToInteractive('df-5b70d0ff-156f-4676-9865-546281866dff')\"\n",
              "              title=\"Convert this dataframe to an interactive table.\"\n",
              "              style=\"display:none;\">\n",
              "        \n",
              "  <svg xmlns=\"http://www.w3.org/2000/svg\" height=\"24px\"viewBox=\"0 0 24 24\"\n",
              "       width=\"24px\">\n",
              "    <path d=\"M0 0h24v24H0V0z\" fill=\"none\"/>\n",
              "    <path d=\"M18.56 5.44l.94 2.06.94-2.06 2.06-.94-2.06-.94-.94-2.06-.94 2.06-2.06.94zm-11 1L8.5 8.5l.94-2.06 2.06-.94-2.06-.94L8.5 2.5l-.94 2.06-2.06.94zm10 10l.94 2.06.94-2.06 2.06-.94-2.06-.94-.94-2.06-.94 2.06-2.06.94z\"/><path d=\"M17.41 7.96l-1.37-1.37c-.4-.4-.92-.59-1.43-.59-.52 0-1.04.2-1.43.59L10.3 9.45l-7.72 7.72c-.78.78-.78 2.05 0 2.83L4 21.41c.39.39.9.59 1.41.59.51 0 1.02-.2 1.41-.59l7.78-7.78 2.81-2.81c.8-.78.8-2.07 0-2.86zM5.41 20L4 18.59l7.72-7.72 1.47 1.35L5.41 20z\"/>\n",
              "  </svg>\n",
              "      </button>\n",
              "      \n",
              "  <style>\n",
              "    .colab-df-container {\n",
              "      display:flex;\n",
              "      flex-wrap:wrap;\n",
              "      gap: 12px;\n",
              "    }\n",
              "\n",
              "    .colab-df-convert {\n",
              "      background-color: #E8F0FE;\n",
              "      border: none;\n",
              "      border-radius: 50%;\n",
              "      cursor: pointer;\n",
              "      display: none;\n",
              "      fill: #1967D2;\n",
              "      height: 32px;\n",
              "      padding: 0 0 0 0;\n",
              "      width: 32px;\n",
              "    }\n",
              "\n",
              "    .colab-df-convert:hover {\n",
              "      background-color: #E2EBFA;\n",
              "      box-shadow: 0px 1px 2px rgba(60, 64, 67, 0.3), 0px 1px 3px 1px rgba(60, 64, 67, 0.15);\n",
              "      fill: #174EA6;\n",
              "    }\n",
              "\n",
              "    [theme=dark] .colab-df-convert {\n",
              "      background-color: #3B4455;\n",
              "      fill: #D2E3FC;\n",
              "    }\n",
              "\n",
              "    [theme=dark] .colab-df-convert:hover {\n",
              "      background-color: #434B5C;\n",
              "      box-shadow: 0px 1px 3px 1px rgba(0, 0, 0, 0.15);\n",
              "      filter: drop-shadow(0px 1px 2px rgba(0, 0, 0, 0.3));\n",
              "      fill: #FFFFFF;\n",
              "    }\n",
              "  </style>\n",
              "\n",
              "      <script>\n",
              "        const buttonEl =\n",
              "          document.querySelector('#df-5b70d0ff-156f-4676-9865-546281866dff button.colab-df-convert');\n",
              "        buttonEl.style.display =\n",
              "          google.colab.kernel.accessAllowed ? 'block' : 'none';\n",
              "\n",
              "        async function convertToInteractive(key) {\n",
              "          const element = document.querySelector('#df-5b70d0ff-156f-4676-9865-546281866dff');\n",
              "          const dataTable =\n",
              "            await google.colab.kernel.invokeFunction('convertToInteractive',\n",
              "                                                     [key], {});\n",
              "          if (!dataTable) return;\n",
              "\n",
              "          const docLinkHtml = 'Like what you see? Visit the ' +\n",
              "            '<a target=\"_blank\" href=https://colab.research.google.com/notebooks/data_table.ipynb>data table notebook</a>'\n",
              "            + ' to learn more about interactive tables.';\n",
              "          element.innerHTML = '';\n",
              "          dataTable['output_type'] = 'display_data';\n",
              "          await google.colab.output.renderOutput(dataTable, element);\n",
              "          const docLink = document.createElement('div');\n",
              "          docLink.innerHTML = docLinkHtml;\n",
              "          element.appendChild(docLink);\n",
              "        }\n",
              "      </script>\n",
              "    </div>\n",
              "  </div>\n",
              "  "
            ]
          },
          "metadata": {},
          "execution_count": 11
        }
      ]
    },
    {
      "cell_type": "code",
      "source": [],
      "metadata": {
        "id": "ZYkmh8rgdW3p"
      },
      "execution_count": null,
      "outputs": []
    }
  ]
}