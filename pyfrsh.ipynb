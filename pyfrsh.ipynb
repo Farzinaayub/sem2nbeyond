{
  "nbformat": 4,
  "nbformat_minor": 0,
  "metadata": {
    "colab": {
      "name": "pyfrsh.ipynb",
      "provenance": [],
      "authorship_tag": "ABX9TyMp3PmKBowE/+zjLmigBNwJ",
      "include_colab_link": true
    },
    "kernelspec": {
      "name": "python3",
      "display_name": "Python 3"
    },
    "language_info": {
      "name": "python"
    }
  },
  "cells": [
    {
      "cell_type": "markdown",
      "metadata": {
        "id": "view-in-github",
        "colab_type": "text"
      },
      "source": [
        "<a href=\"https://colab.research.google.com/github/Farzinaayub/sem2nbeyond/blob/colab/pyfrsh.ipynb\" target=\"_parent\"><img src=\"https://colab.research.google.com/assets/colab-badge.svg\" alt=\"Open In Colab\"/></a>"
      ]
    },
    {
      "cell_type": "code",
      "execution_count": 1,
      "metadata": {
        "colab": {
          "base_uri": "https://localhost:8080/"
        },
        "id": "6RDapWX_AZ9G",
        "outputId": "628ab1d3-8482-4ae0-c2e6-7e6837c943d5"
      },
      "outputs": [
        {
          "output_type": "stream",
          "name": "stdout",
          "text": [
            "5\n"
          ]
        }
      ],
      "source": [
        "a=5\n",
        "print(a)"
      ]
    },
    {
      "cell_type": "code",
      "source": [
        "print(type(a))\n"
      ],
      "metadata": {
        "colab": {
          "base_uri": "https://localhost:8080/"
        },
        "id": "fXbQmbnzDKdL",
        "outputId": "716206d6-2030-4687-dcfd-b7046a4ec625"
      },
      "execution_count": 2,
      "outputs": [
        {
          "output_type": "stream",
          "name": "stdout",
          "text": [
            "<class 'int'>\n"
          ]
        }
      ]
    },
    {
      "cell_type": "code",
      "source": [
        "b=True\n",
        "print(b)\n",
        "print(type(b))"
      ],
      "metadata": {
        "colab": {
          "base_uri": "https://localhost:8080/"
        },
        "id": "tXJprgrlDP3B",
        "outputId": "da98a3b8-8bdc-468e-f83d-e4fcad5d434a"
      },
      "execution_count": 3,
      "outputs": [
        {
          "output_type": "stream",
          "name": "stdout",
          "text": [
            "True\n",
            "<class 'bool'>\n"
          ]
        }
      ]
    },
    {
      "cell_type": "code",
      "source": [
        "t=5+3j\n",
        "print(t)\n",
        "print(type(t))"
      ],
      "metadata": {
        "colab": {
          "base_uri": "https://localhost:8080/"
        },
        "id": "V6lfCb-lDcnK",
        "outputId": "37425f8f-241c-4d21-f046-828103ecebf9"
      },
      "execution_count": 5,
      "outputs": [
        {
          "output_type": "stream",
          "name": "stdout",
          "text": [
            "(5+3j)\n",
            "<class 'complex'>\n"
          ]
        }
      ]
    },
    {
      "cell_type": "code",
      "source": [
        "Dict = {1:'farzi',2:'for'}\n",
        "print(Dict)"
      ],
      "metadata": {
        "colab": {
          "base_uri": "https://localhost:8080/"
        },
        "id": "NKyMcdc5Dt-o",
        "outputId": "ff670917-3c55-417c-fd58-bfe7eae9a083"
      },
      "execution_count": 6,
      "outputs": [
        {
          "output_type": "stream",
          "name": "stdout",
          "text": [
            "{1: 'farzi', 2: 'for'}\n"
          ]
        }
      ]
    },
    {
      "cell_type": "code",
      "source": [
        "a=7\n",
        "b=3\n",
        "sum = a+b\n",
        "print(sum)"
      ],
      "metadata": {
        "colab": {
          "base_uri": "https://localhost:8080/"
        },
        "id": "TVnpIBlnEKzA",
        "outputId": "9f3dad3b-f6a5-43a5-c818-64bf39140640"
      },
      "execution_count": 8,
      "outputs": [
        {
          "output_type": "stream",
          "name": "stdout",
          "text": [
            "10\n"
          ]
        }
      ]
    },
    {
      "cell_type": "code",
      "source": [
        "abpro=a*b\n",
        "print(abpro)"
      ],
      "metadata": {
        "colab": {
          "base_uri": "https://localhost:8080/"
        },
        "id": "UCFUWq0eEaES",
        "outputId": "96009548-bd39-4d69-952e-c086d3ab15d7"
      },
      "execution_count": 9,
      "outputs": [
        {
          "output_type": "stream",
          "name": "stdout",
          "text": [
            "21\n"
          ]
        }
      ]
    },
    {
      "cell_type": "code",
      "source": [
        "Dict = {1:'farzi',2:True,3:[1,2,333,4]}\n",
        "print(Dict)"
      ],
      "metadata": {
        "colab": {
          "base_uri": "https://localhost:8080/"
        },
        "id": "gaxpHcxdFKBi",
        "outputId": "3dcbf966-d348-45d5-88d4-cbec3eb5570e"
      },
      "execution_count": 10,
      "outputs": [
        {
          "output_type": "stream",
          "name": "stdout",
          "text": [
            "{1: 'farzi', 2: True, 3: [1, 2, 333, 4]}\n"
          ]
        }
      ]
    },
    {
      "cell_type": "code",
      "source": [
        "Dict={}\n",
        "print(\"Empty dictionary\")\n",
        "print(Dict)\n",
        "\n",
        "Dict=dict({1:'farzi',2:'fahmi'})\n",
        "print(\"dictionary with use of dict()\")\n",
        "print(Dict)\n",
        "\n",
        "Dict=dict([(1,'farzi'),(2,'fahmi')])\n",
        "print(\"dictionary with each item as a pair\")\n",
        "print(Dict)"
      ],
      "metadata": {
        "colab": {
          "base_uri": "https://localhost:8080/"
        },
        "id": "7b-CIjkQFZvJ",
        "outputId": "c6d0aa69-ee33-40e6-f5e0-40f0a9ee9782"
      },
      "execution_count": 11,
      "outputs": [
        {
          "output_type": "stream",
          "name": "stdout",
          "text": [
            "Empty dictionary\n",
            "{}\n",
            "dictionary with use of dict()\n",
            "{1: 'farzi', 2: 'fahmi'}\n",
            "dictionary with each item as a pair\n",
            "{1: 'farzi', 2: 'fahmi'}\n"
          ]
        }
      ]
    }
  ]
}