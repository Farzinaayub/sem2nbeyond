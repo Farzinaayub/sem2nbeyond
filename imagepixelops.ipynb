{
  "nbformat": 4,
  "nbformat_minor": 0,
  "metadata": {
    "colab": {
      "provenance": [],
      "authorship_tag": "ABX9TyOOPrLN79RGAzjzF1tXJKxF"
    },
    "kernelspec": {
      "name": "python3",
      "display_name": "Python 3"
    },
    "language_info": {
      "name": "python"
    }
  },
  "cells": [
    {
      "cell_type": "code",
      "execution_count": 2,
      "metadata": {
        "colab": {
          "base_uri": "https://localhost:8080/"
        },
        "id": "5JrlmcxQe7vX",
        "outputId": "23d64dbd-8dff-4cda-f2df-da6241daf64a"
      },
      "outputs": [
        {
          "output_type": "stream",
          "name": "stdout",
          "text": [
            "[39 43 44]\n",
            "[157 166 200]\n"
          ]
        }
      ],
      "source": [
        "import cv2\n",
        "import numpy as np\n",
        "img = cv2.imread('messi.jpeg')\n",
        "#pixelof 0th col ans 0th row\n",
        "print(img[0][0])\n",
        "#rgb\n",
        "px = img[100][100]\n",
        "print(px)"
      ]
    }
  ]
}